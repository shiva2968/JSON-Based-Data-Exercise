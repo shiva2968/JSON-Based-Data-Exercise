{
 "cells": [
  {
   "cell_type": "code",
   "execution_count": 111,
   "metadata": {},
   "outputs": [],
   "source": [
    "import json\n",
    "import pandas as pd\n",
    "from pandas.io.json import json_normalize "
   ]
  },
  {
   "cell_type": "code",
   "execution_count": 112,
   "metadata": {},
   "outputs": [
    {
     "name": "stdout",
     "output_type": "stream",
     "text": [
      "                    project_name\n",
      "countryshortname                \n",
      "China                         19\n",
      "Indonesia                     19\n",
      "Vietnam                       17\n",
      "India                         16\n",
      "Yemen, Republic of            13\n",
      "Nepal                         12\n",
      "Bangladesh                    12\n",
      "Morocco                       12\n",
      "Mozambique                    11\n",
      "Africa                        11\n"
     ]
    }
   ],
   "source": [
    "file = 'data/world_bank_projects.json'\n",
    "data = pd.read_json(file)\n",
    "country_project = data.pivot_table(values='project_name', index='countryshortname', aggfunc='count')\n",
    "country_project_ordered = country_project.sort_values(by='project_name', ascending=False)\n",
    "print(country_project_ordered.head(10))"
   ]
  },
  {
   "cell_type": "code",
   "execution_count": 117,
   "metadata": {},
   "outputs": [
    {
     "name": "stdout",
     "output_type": "stream",
     "text": [
      "Environment and natural resources management    223\n",
      "Rural development                               202\n",
      "Human development                               197\n",
      "Public sector governance                        184\n",
      "Social protection and risk management           158\n",
      "Financial and private sector development        130\n",
      "                                                122\n",
      "Social dev/gender/inclusion                     119\n",
      "Trade and integration                            72\n",
      "Urban development                                47\n",
      "Name: name, dtype: int64\n"
     ]
    }
   ],
   "source": [
    "with open(file) as json_file:\n",
    "    json_data = json.load(json_file)\n",
    "project_theme = json_normalize(json_data, 'mjtheme_namecode')\n",
    "counts = project_theme['name'].value_counts()\n",
    "print(counts[:10])"
   ]
  },
  {
   "cell_type": "code",
   "execution_count": 115,
   "metadata": {},
   "outputs": [],
   "source": [
    "data_new = data.replace('',  'NaN')"
   ]
  }
 ],
 "metadata": {
  "kernelspec": {
   "display_name": "Python 3",
   "language": "python",
   "name": "python3"
  },
  "language_info": {
   "codemirror_mode": {
    "name": "ipython",
    "version": 3
   },
   "file_extension": ".py",
   "mimetype": "text/x-python",
   "name": "python",
   "nbconvert_exporter": "python",
   "pygments_lexer": "ipython3",
   "version": "3.7.1"
  }
 },
 "nbformat": 4,
 "nbformat_minor": 2
}
